{
 "cells": [
  {
   "cell_type": "code",
   "execution_count": 1,
   "id": "b89ce4c1-11ef-4889-b427-5f63f44011f0",
   "metadata": {},
   "outputs": [],
   "source": [
    "import requests\n",
    "import matplotlib.pyplot as plt\n",
    "import pygal\n",
    "from pygal.style import LightColorizedStyle as LCS, LightenStyle as LS\n"
   ]
  },
  {
   "cell_type": "code",
   "execution_count": 2,
   "id": "66430b87-81f0-4e63-ad1a-ca3807ad83e6",
   "metadata": {},
   "outputs": [],
   "source": [
    "# Make an API call and store the response.\n",
    "url = 'https://api.github.com/search/repositories?q=language:python&sort=stars'\n",
    "\n",
    "requested = requests.get(url)"
   ]
  },
  {
   "cell_type": "code",
   "execution_count": 3,
   "id": "04671f79-0842-47ff-b184-d795c9428f83",
   "metadata": {},
   "outputs": [
    {
     "name": "stdout",
     "output_type": "stream",
     "text": [
      "Status code: 200\n",
      "dict_keys(['total_count', 'incomplete_results', 'items'])\n"
     ]
    }
   ],
   "source": [
    "#print out our request\n",
    "print(\"Status code:\", requested.status_code) \n",
    "\n",
    "# Store API response in a variable.\n",
    "response_dict = requested.json()\n",
    "# Process results.\n",
    "print(response_dict.keys())\n",
    "\n",
    "#If the status code is 200, then we know that the request was successful.\n",
    "\n"
   ]
  },
  {
   "cell_type": "code",
   "execution_count": null,
   "id": "2a102146-c3e0-4179-9874-d0f36641f814",
   "metadata": {},
   "outputs": [],
   "source": []
  },
  {
   "cell_type": "markdown",
   "id": "bd942b0e-b9cb-4dd4-aa2e-a0e76979bcdc",
   "metadata": {},
   "source": [
    "\n",
    "\"\"\"Simple calls like this should return a complete set of results, so it is pretty safe to ignore\n",
    "the value associated with 'incomplete_results'. But when you are making more complex\n",
    "API calls, your program should check this value. \"\"\""
   ]
  },
  {
   "cell_type": "code",
   "execution_count": 4,
   "id": "a98364f9-e2be-4860-9177-3242d260d5e8",
   "metadata": {},
   "outputs": [
    {
     "name": "stdout",
     "output_type": "stream",
     "text": [
      "Total repositories: 8124975\n",
      "No of Repositories returned: 30\n",
      "\n",
      "Keys: 78\n"
     ]
    }
   ],
   "source": [
    "print(\"Total repositories:\", response_dict['total_count'])\n",
    "\n",
    "# Explore information about the repositories.\n",
    "repo_dicts = response_dict['items']\n",
    "print(\"No of Repositories returned:\", len(repo_dicts))\n",
    "\n",
    "\n",
    "# Let's examine the first repository.\n",
    "repo_dict_1 = repo_dicts[0]\n",
    "print(\"\\nKeys:\", len(repo_dict_1))\n",
    "#for key in sorted(repo_dict_1.keys()):\n",
    "   # print(key)\n",
    "  "
   ]
  },
  {
   "cell_type": "code",
   "execution_count": 5,
   "id": "9f0aaaa4-571f-4121-92cd-1f3eb35e06a4",
   "metadata": {},
   "outputs": [
    {
     "name": "stdout",
     "output_type": "stream",
     "text": [
      "\n",
      "Selected information about first repository:\n",
      "Name: system-design-primer\n",
      "Owner: donnemartin\n",
      "Stars: 181744\n",
      "Repository: https://github.com/donnemartin/system-design-primer\n",
      "Created: 2017-02-26T16:15:28Z\n",
      "Updated: 2022-05-27T00:37:36Z\n",
      "Description: Learn how to design large-scale systems. Prep for the system design interview.  Includes Anki flashcards.\n"
     ]
    }
   ],
   "source": [
    "#Let’s get some of the values for some of the keys in repo_dict_1:   \n",
    "print(\"\\nSelected information about first repository:\")\n",
    "print('Name:', repo_dict_1['name'])\n",
    "print('Owner:', repo_dict_1['owner']['login'])\n",
    "print('Stars:', repo_dict_1['stargazers_count'])\n",
    "print('Repository:', repo_dict_1['html_url'])\n",
    "print('Created:', repo_dict_1['created_at'])\n",
    "print('Updated:', repo_dict_1['updated_at'])\n",
    "print('Description:', repo_dict_1['description'])\n"
   ]
  },
  {
   "cell_type": "markdown",
   "id": "acd944fa-fc91-4c78-a601-d6e9e48b477a",
   "metadata": {},
   "source": [
    "# This doc string explains the set of printed out codes above.\n",
    "\"\"\"Here we print out the values for a number of keys from the first repository's\n",
    "dictionary. At line 36, we print the name of the project. An entire dictionary\n",
    "represents the project's owner, so at line 37 we used the key owner to access\n",
    "the dictionary representing the owner and then use the key login to get the\n",
    "owner's login name. At line 39, we print out how many stars the project has earned\n",
    "and the URL for the project's GitHub repository. We then show when it was\n",
    "created x and when it was last updated. Finally, we print out the repository's\n",
    "description.\"\"\""
   ]
  },
  {
   "cell_type": "code",
   "execution_count": 6,
   "id": "a18798d6-b553-4941-a7fd-328bb3631195",
   "metadata": {},
   "outputs": [],
   "source": [
    "names, stars = [], []\n"
   ]
  },
  {
   "cell_type": "code",
   "execution_count": 7,
   "id": "38d9a7ac-571b-4a6b-8999-3604ac57c246",
   "metadata": {},
   "outputs": [],
   "source": [
    "for repo_dict in repo_dicts:\n",
    "    names.append(repo_dict['name'])\n",
    "    stars.append(repo_dict['stargazers_count'])"
   ]
  },
  {
   "cell_type": "code",
   "execution_count": 8,
   "id": "11980974-d911-4e60-bf5d-9a5ccc988cf3",
   "metadata": {},
   "outputs": [
    {
     "name": "stdout",
     "output_type": "stream",
     "text": [
      "['system-design-primer', 'awesome-python', 'Python-100-Days', 'youtube-dl', 'thefuck', 'ansible', 'big-list-of-naughty-strings', 'openpilot', 'CppCoreGuidelines', 'pandas', 'd2l-zh', 'XX-Net', 'certbot', 'HanLP', 'yt-dlp', 'Python', 'Detectron', 'YouCompleteMe', 'pytorch-tutorial', 'sqlmap', 'data-science-ipython-notebooks', 'python-fire', 'ItChat', 'MockingBird', 'ML-From-Scratch', 'algorithms', 'hosts', 'CheatSheetSeries', 'ray', 'numpy']\n"
     ]
    }
   ],
   "source": [
    "print(names)"
   ]
  },
  {
   "cell_type": "code",
   "execution_count": 9,
   "id": "d11b01ee-a092-4deb-871f-1c5b58795376",
   "metadata": {},
   "outputs": [
    {
     "name": "stdout",
     "output_type": "stream",
     "text": [
      "[181744, 128318, 119294, 110275, 71264, 53258, 42395, 34649, 34114, 34034, 32704, 31247, 28943, 25999, 25919, 25438, 25160, 23986, 23793, 23564, 23112, 22450, 22196, 21710, 21101, 20845, 20813, 20722, 20615, 20535]\n"
     ]
    }
   ],
   "source": [
    "print(stars)"
   ]
  },
  {
   "cell_type": "markdown",
   "id": "6c2f8f7c-22cb-4865-9870-fa29b7329867",
   "metadata": {},
   "source": [
    "# Making Visualizations"
   ]
  },
  {
   "cell_type": "code",
   "execution_count": 11,
   "id": "e9f7e02d-535f-4a25-9302-b5da3226c9ad",
   "metadata": {},
   "outputs": [],
   "source": [
    "import pandas as pd\n"
   ]
  },
  {
   "cell_type": "code",
   "execution_count": 14,
   "id": "40169021-246a-414a-a595-20c158f1c525",
   "metadata": {},
   "outputs": [],
   "source": [
    "dict = {\"projectNames\" : names, \"numberOfstars\": stars}"
   ]
  },
  {
   "cell_type": "code",
   "execution_count": 15,
   "id": "3bb094fc-b092-4ed3-8370-f1113a95ef2e",
   "metadata": {},
   "outputs": [],
   "source": [
    "df = pd.DataFrame(dict)\n",
    "df.to_csv('Github_Api.csv')"
   ]
  },
  {
   "cell_type": "markdown",
   "id": "044b5633-a09e-4107-a115-4f36f87f9fd0",
   "metadata": {},
   "source": [
    "my_style = LS('#333366', base_style=LCS)\n",
    "chart = pygal.Bar(style=my_style, x_label_rotation=45, show_legend=False)\n",
    "chart.title = 'Most-Starred Python Projects on GitHub'\n",
    "chart.x_labels = names\n",
    "\n",
    "chart.add('', stars)\n"
   ]
  },
  {
   "cell_type": "code",
   "execution_count": 16,
   "id": "0f29a28e-bef8-4f78-944b-f98a6e8980f5",
   "metadata": {},
   "outputs": [
    {
     "data": {
      "image/png": "[encoded data removed]",
      "text/plain": [
       "<Figure size 1152x360 with 1 Axes>"
      ]
     },
     "metadata": {
      "needs_background": "light"
     },
     "output_type": "display_data"
    }
   ],
   "source": [
    "#my_style = LS('#333366', base_style=LCS)\n",
    "plt.figure(figsize=(16,5))\n",
    "p =plt.bar(names,stars)\n",
    "plt.title = ('Most-Starred Python Projects on GitHub')\n",
    "plt.xticks(names, rotation=45, horizontalalignment='right')\n",
    "plt.savefig('api_repos.pdf', dpi=3000)\n",
    "plt.show()\n",
    "\n",
    "#chart.add('', stars)\n"
   ]
  },
  {
   "cell_type": "code",
   "execution_count": null,
   "id": "10d33bb0-840f-49d1-b31b-228981af8bae",
   "metadata": {},
   "outputs": [],
   "source": [
    "from wordcloud import WordCloud"
   ]
  },
  {
   "cell_type": "code",
   "execution_count": null,
   "id": "57fbbce7-202e-4568-99b2-b06adef1376f",
   "metadata": {},
   "outputs": [],
   "source": []
  }
 ],
 "metadata": {
  "kernelspec": {
   "display_name": "Python 3 (ipykernel)",
   "language": "python",
   "name": "python3"
  },
  "language_info": {
   "codemirror_mode": {
    "name": "ipython",
    "version": 3
   },
   "file_extension": ".py",
   "mimetype": "text/x-python",
   "name": "python",
   "nbconvert_exporter": "python",
   "pygments_lexer": "ipython3",
   "version": "3.9.7"
  }
 },
 "nbformat": 4,
 "nbformat_minor": 5
}
